{
 "cells": [
  {
   "attachments": {
    "image-2.png": {
     "image/png": "[encoded data removed]"
    }
   },
   "cell_type": "markdown",
   "id": "23e21ae2",
   "metadata": {},
   "source": [
    "<h1> Context </h1>\n",
    "Context:\n",
    "Starbucks is an American coffeehouse chain founded in Seattle. It offers both beverages and food.\n",
    "\n",
    "Content:\n",
    "This dataset contains the nutritional information of the food and drink items offered by Starbucks. All nutritional information for beverages corresponds to a 12 oz serving (approximately a 33 cl soda can).\n",
    "\n",
    "![image-2.png](attachment:image-2.png)\n",
    "\n",
    "\n",
    "<h1> Steps to Follow </h1>\n",
    "\n",
    "<b> Importing the Data </b>\n",
    "\n",
    "Use genfromtxt to import the data from the file starbucks-menu-nutrition-drinks.csv. Be sure to specify a data type as well as an encoding to correctly load the textual data.\n",
    "Tip: If you get a 'b' prefix on each value, you can try using the data type None to resolve the issue.\n",
    "\n",
    "<b> Data Cleaning </b>\n",
    "\n",
    "Missing values are denoted by \"-\". Replace these with null values (nan).\n",
    "\n",
    "We will separate the different types of data. \"header\" will contain the column headers, \"drinks\" the drink names, and \"data\" the numerical values (make sure to set the appropriate type for this array).\n",
    "\n",
    "Some drinks have no numerical data. Using np.isnan(...).all(...), calculate the proportion of drinks with no data.\n",
    "\n",
    "Filter the \"drinks\" and \"data\" arrays to keep only the drinks that have data.\n",
    "\n",
    "<b> Data Analysis </b>\n",
    "\n",
    "Compute the average calories per drink.\n",
    "\n",
    "Compute the median of the protein values.\n",
    "\n",
    "Compute the maximum and minimum of the fat values.\n",
    "\n",
    "Identify the drink with the highest calories (drink name + calorie count).\n",
    "\n",
    "Identify the drink with the lowest calories (drink name + calorie count).\n",
    "\n",
    "<b> Data Modeling </b>\n",
    "\n",
    "To simplify the reading and analysis of drinks, we want to create a “NutriScore” that quickly indicates a drink’s calorie level:\n",
    "\n",
    "0 to 100 calories: level 1\n",
    "\n",
    "100 to 200 calories: level 2\n",
    "\n",
    "200 to 300 calories: level 3\n",
    "\n",
    "300 and above: level 4\n",
    "\n",
    "Instructions:\n",
    "\n",
    "Isolate the calories column into the variable calories.\n",
    "\n",
    "Using np.zeros, create an array of the same shape as calories in the variable niveaux_calories.\n",
    "\n",
    "Apply a series of filters to replace the values in niveaux_calories with 1, 2, 3, or 4, depending on each drink’s calorie level.\n",
    "\n",
    "Once done, use the niveaux_calories array to filter for the lowest-calorie drinks (NutriScore 1).\n",
    "\n",
    "Calculate the average calories for the drinks with NutriScore 1."
   ]
  },
  {
   "cell_type": "markdown",
   "id": "e608f6a1",
   "metadata": {},
   "source": [
    "<h1> Importing the Data </h1>"
   ]
  },
  {
   "cell_type": "code",
   "execution_count": 272,
   "id": "fd6b2226",
   "metadata": {},
   "outputs": [
    {
     "name": "stdout",
     "output_type": "stream",
     "text": [
      "[['Drink' 'Calories' 'Fat (g)' ... 'Fiber (g)' 'Protein' 'Sodium']\n",
      " ['Cool Lime Starbucks Refreshers Beverage' '45' '0' ... '0' '0' '10']\n",
      " ['Ombré Pink Drink' '-' '-' ... '-' '-' '-']\n",
      " ...\n",
      " ['Ginger Ale' '-' '-' ... '-' '-' '-']\n",
      " ['Lemon Ale' '-' '-' ... '-' '-' '-']\n",
      " ['Orange Cream Soda' '-' '-' ... '-' '-' '-']]\n"
     ]
    }
   ],
   "source": [
    "import numpy as np\n",
    "\n",
    "file = np.genfromtxt('starbucks-menu-nutrition-drinks.csv', delimiter = ',', dtype =None, encoding =\"utf-8-sig\")\n",
    "print(file)"
   ]
  },
  {
   "cell_type": "markdown",
   "id": "538a8c41",
   "metadata": {},
   "source": [
    "<h1> Data Cleaning </h1>\n",
    "\n",
    "<b> Separation of Textual Values and Numerical Values </b>"
   ]
  },
  {
   "cell_type": "code",
   "execution_count": 274,
   "id": "1cc1f1d4",
   "metadata": {},
   "outputs": [
    {
     "name": "stdout",
     "output_type": "stream",
     "text": [
      "[['Drink' 'Calories' 'Fat (g)' ... 'Fiber (g)' 'Protein' 'Sodium']\n",
      " ['Cool Lime Starbucks Refreshers Beverage' '45' '0' ... '0' '0' '10']\n",
      " ['Ombré Pink Drink' 'nan' 'nan' ... 'nan' 'nan' 'nan']\n",
      " ...\n",
      " ['Ginger Ale' 'nan' 'nan' ... 'nan' 'nan' 'nan']\n",
      " ['Lemon Ale' 'nan' 'nan' ... 'nan' 'nan' 'nan']\n",
      " ['Orange Cream Soda' 'nan' 'nan' ... 'nan' 'nan' 'nan']]\n"
     ]
    }
   ],
   "source": [
    "FileNaN = np.where(file == '-', np.nan, file)\n",
    "print(FileNaN )"
   ]
  },
  {
   "cell_type": "code",
   "execution_count": 276,
   "id": "6b77eedb-1939-4d57-a9b7-b4bb488ad903",
   "metadata": {},
   "outputs": [
    {
     "name": "stdout",
     "output_type": "stream",
     "text": [
      "[[45.  0. 11.  0.  0. 10.]\n",
      " [nan nan nan nan nan nan]\n",
      " [nan nan nan nan nan nan]\n",
      " ...\n",
      " [nan nan nan nan nan nan]\n",
      " [nan nan nan nan nan nan]\n",
      " [nan nan nan nan nan nan]]\n"
     ]
    }
   ],
   "source": [
    "header = FileNaN[0]\n",
    "#print(header)\n",
    "drinks = FileNaN[1:,0]\n",
    "#print(drinks)\n",
    "data = FileNaN[1:,1:].astype(np.float64)\n",
    "print(data)"
   ]
  },
  {
   "cell_type": "markdown",
   "id": "21b46339",
   "metadata": {},
   "source": [
    "<b> Removal of Rows Without Numerical Values </b>"
   ]
  },
  {
   "cell_type": "code",
   "execution_count": 280,
   "id": "2bf5eac4-ceb2-4d83-ac6d-902af97ef478",
   "metadata": {},
   "outputs": [
    {
     "name": "stdout",
     "output_type": "stream",
     "text": [
      " the percentage of drinks without values is: 48%.\n"
     ]
    }
   ],
   "source": [
    "drinksNaN = np.isnan(data).all(axis=1)\n",
    "sumdrinks = np.sum(drinksNaN)\n",
    "WithoutValues = sumdrinks/ len(drinks)\n",
    "print(f\" the percentage of drinks without values is: {int(WithoutValues*100)}%.\")"
   ]
  },
  {
   "cell_type": "code",
   "execution_count": 282,
   "id": "be8e4962",
   "metadata": {},
   "outputs": [
    {
     "name": "stdout",
     "output_type": "stream",
     "text": [
      "['Cool Lime Starbucks Refreshers Beverage'\n",
      " 'Strawberry Acai Starbucks Refreshers Beverage'\n",
      " 'Very Berry Hibiscus Starbucks Refreshers Beverage'\n",
      " 'Evolution Fresh Organic Ginger Limeade' 'Iced Coffee'\n",
      " 'Iced Espresso Classics - Vanilla Latte'\n",
      " 'Iced Espresso Classics - Caffe Mocha'\n",
      " 'Iced Espresso Classics - Caramel Macchiato' 'Shaken Sweet Tea'\n",
      " 'Tazo Bottled Berry Blossom White' 'Tazo Bottled Black Mango'\n",
      " 'Tazo Bottled Black with Lemon' 'Tazo Bottled Brambleberry'\n",
      " 'Tazo Bottled Giant Peach' 'Tazo Bottled Iced Passion'\n",
      " 'Tazo Bottled Lemon Ginger' 'Tazo Bottled Organic Black Lemonade'\n",
      " 'Tazo Bottled Organic Iced Black Tea'\n",
      " 'Tazo Bottled Organic Iced Green Tea' 'Tazo Bottled Plum Pomegranate'\n",
      " 'Tazo Bottled Tazoberry' 'Tazo Bottled White Cranberry'\n",
      " 'Teavana Shaken Iced Black Tea' 'Teavana Shaken Iced Black Tea Lemonade'\n",
      " 'Teavana Shaken Iced Green Tea' 'Teavana Shaken Iced Green Tea Lemonade'\n",
      " 'Teavana Shaken Iced Passion Tango Tea'\n",
      " 'Teavana Shaken Iced Passion Tango Tea Lemonade'\n",
      " 'Teavana Shaken Iced Peach Green Tea'\n",
      " 'Iced Espresso Classics - Vanilla Latte'\n",
      " 'Iced Espresso Classics - Caffe Mocha'\n",
      " 'Iced Espresso Classics - Caramel Macchiato'\n",
      " 'Starbucks Refreshers Raspberry Pomegranate'\n",
      " 'Starbucks Refreshers Strawberry Lemonade'\n",
      " 'Starbucks Doubleshot Protein Dark Chocolate'\n",
      " 'Starbucks Doubleshot Protein Vanilla' 'Starbucks Iced Coffee Caramel'\n",
      " 'Starbucks Iced Coffee Light Sweetened'\n",
      " 'Starbucks Iced Coffee Unsweetened' 'Tazo Bottled Berry Blossom White'\n",
      " 'Tazo Bottled Black Mango' 'Tazo Bottled Black with Lemon'\n",
      " 'Tazo Bottled Brambleberry' 'Tazo Bottled Giant Peach'\n",
      " 'Tazo Bottled Iced Passion' 'Tazo Bottled Lemon Ginger'\n",
      " 'Tazo Bottled Organic Black Lemonade'\n",
      " 'Tazo Bottled Organic Iced Black Tea'\n",
      " 'Tazo Bottled Organic Iced Green Tea' 'Tazo Bottled Plum Pomegranate'\n",
      " 'Tazo Bottled Tazoberry' 'Tazo Bottled White Cranberry' 'Blonde Roast'\n",
      " 'Clover Brewed Coffee' 'Decaf Pike Place Roast' 'Featured Dark Roast'\n",
      " 'Iced Coffee' 'Nariño 70 Cold Brew' 'Nariño 70 Cold Brew with Milk'\n",
      " 'Nitro Cold Brew' 'Nitro Cold Brew with Sweet Cream' 'Pike Place Roast'\n",
      " 'Vanilla Sweet Cream Cold Brew' 'Hot Chocolate'\n",
      " 'Starbucks Signature Hot Chocolate' 'Caffè Latte' 'Caffè Mocha'\n",
      " 'Cappuccino' 'Caramel Macchiato' 'Cinnamon Dolce Latte'\n",
      " 'Coconutmilk Mocha Macchiato' 'Flat White' 'Iced Caffè Latte'\n",
      " 'Iced Caffè Mocha' 'Iced Caramel Macchiato' 'Iced Cinnamon Dolce Latte'\n",
      " 'Iced Coconutmilk Mocha Macchiato' 'Iced Vanilla Latte'\n",
      " 'Iced White Chocolate Mocha' 'Latte Macchiato' 'Latte Macchiato'\n",
      " 'Starbucks Doubleshot on Ice Beverage' 'Vanilla Latte'\n",
      " 'White Chocolate Mocha' 'Cinnamon Dolce Frappuccino Blended Coffee'\n",
      " 'Coffee Light Frappuccino Blended Coffee'\n",
      " 'Mocha Frappuccino Blended Coffee'\n",
      " 'Mocha Light Frappuccino Blended Coffee' 'Cinnamon Dolce Crème'\n",
      " 'Vanilla Crème' 'Chocolate Smoothie' 'Strawberry Smoothie']\n",
      "[[ 45.    0.   11.    0.    0.   10. ]\n",
      " [ 80.    0.   18.    1.    0.   10. ]\n",
      " [ 60.    0.   14.    1.    0.   10. ]\n",
      " [110.    0.   28.    0.    0.    5. ]\n",
      " [  0.    0.    0.    0.    0.    0. ]\n",
      " [130.    2.5  21.    0.    5.   65. ]\n",
      " [140.    2.5  23.    0.    5.   90. ]\n",
      " [130.    2.5  21.    0.    5.   65. ]\n",
      " [ 80.    0.   19.    0.    0.   10. ]\n",
      " [ 60.    0.   15.    0.    0.   10. ]\n",
      " [150.    0.   38.    0.    0.   15. ]\n",
      " [140.    0.   35.    0.    0.   10. ]\n",
      " [140.    0.   35.    0.    0.   15. ]\n",
      " [150.    0.   37.    0.    0.   15. ]\n",
      " [ 70.    0.   17.    0.    0.   10. ]\n",
      " [120.    0.   31.    0.    0.   10. ]\n",
      " [140.    0.   35.    0.    0.   10. ]\n",
      " [ 60.    0.   15.    0.    0.   10. ]\n",
      " [120.    0.   31.    0.    0.   10. ]\n",
      " [140.    0.   35.    0.    0.   10. ]\n",
      " [150.    0.   38.    0.    0.   15. ]\n",
      " [140.    0.   35.    0.    0.   10. ]\n",
      " [ 30.    0.    8.    0.    0.    5. ]\n",
      " [ 70.    0.   17.    0.    0.    0. ]\n",
      " [ 30.    0.    8.    0.    0.    5. ]\n",
      " [ 70.    0.   17.    0.    0.    5. ]\n",
      " [ 30.    0.    8.    0.    0.    5. ]\n",
      " [ 90.    0.   24.    0.    0.    0. ]\n",
      " [ 60.    0.   15.    0.    0.    0. ]\n",
      " [130.    2.5  21.    0.    5.   65. ]\n",
      " [140.    2.5  23.    0.    5.   90. ]\n",
      " [130.    2.5  21.    0.    5.   65. ]\n",
      " [ 90.    0.   27.    0.    0.    0. ]\n",
      " [ 90.    0.   27.    0.    0.    0. ]\n",
      " [210.    2.5  33.    2.   20.  115. ]\n",
      " [200.    2.5  34.    2.   20.  120. ]\n",
      " [ 60.    0.   13.    0.    1.    0. ]\n",
      " [ 50.    0.   11.    0.    1.    0. ]\n",
      " [ 10.    0.    2.    0.    1.    0. ]\n",
      " [ 60.    0.   15.    0.    0.   10. ]\n",
      " [150.    0.   38.    0.    0.   15. ]\n",
      " [140.    0.   35.    0.    0.   10. ]\n",
      " [140.    0.   35.    0.    0.   15. ]\n",
      " [150.    0.   37.    0.    0.   15. ]\n",
      " [ 70.    0.   17.    0.    0.   10. ]\n",
      " [120.    0.   31.    0.    0.   10. ]\n",
      " [140.    0.   35.    0.    0.   10. ]\n",
      " [ 60.    0.   15.    0.    0.   10. ]\n",
      " [120.    0.   31.    0.    0.   10. ]\n",
      " [140.    0.   35.    0.    0.   10. ]\n",
      " [150.    0.   38.    0.    0.   15. ]\n",
      " [140.    0.   35.    0.    0.   10. ]\n",
      " [  5.    0.    0.    0.    1.   10. ]\n",
      " [ 10.    0.    0.    0.    1.   10. ]\n",
      " [  5.    0.    0.    0.    1.   10. ]\n",
      " [  5.    0.    0.    0.    1.   10. ]\n",
      " [  5.    0.    0.    0.    0.    5. ]\n",
      " [  5.    0.    0.    0.    0.   15. ]\n",
      " [  0.    0.    0.    0.    0.    0. ]\n",
      " [  5.    0.    0.    0.    0.   10. ]\n",
      " [ 70.    5.    5.    0.    1.   20. ]\n",
      " [  5.    0.    0.    0.    1.   10. ]\n",
      " [110.    6.   14.    0.    1.   25. ]\n",
      " [320.    9.   47.    4.   14.  160. ]\n",
      " [430.   26.   45.    5.   12.  115. ]\n",
      " [190.    7.   19.    0.   13.  170. ]\n",
      " [290.    8.   42.    4.   13.  140. ]\n",
      " [120.    4.   12.    0.    8.  100. ]\n",
      " [250.    7.   35.    0.   10.  150. ]\n",
      " [260.    6.   40.    0.   11.  150. ]\n",
      " [250.    9.   32.    0.   12.  180. ]\n",
      " [180.    7.   18.    0.   12.  160. ]\n",
      " [130.    4.5  13.    0.    8.  115. ]\n",
      " [230.    6.   36.    4.    9.   90. ]\n",
      " [250.    7.   37.    0.   10.  150. ]\n",
      " [200.    4.   34.    0.    7.   95. ]\n",
      " [260.    9.   34.    0.   11.  180. ]\n",
      " [190.    4.   30.    0.    7.  100. ]\n",
      " [300.    8.   47.    0.   10.  190. ]\n",
      " [190.    7.   19.    0.   12.  160. ]\n",
      " [190.    7.   19.    0.   12.  160. ]\n",
      " [ 45.    1.    5.    0.    3.   40. ]\n",
      " [250.    6.   37.    0.   12.  150. ]\n",
      " [360.   11.   53.    0.   14.  240. ]\n",
      " [350.    4.5  64.    0.   15.    0. ]\n",
      " [110.    0.   24.    0.    3.  200. ]\n",
      " [280.    2.5  60.    2.    4.  220. ]\n",
      " [140.    0.5  28.    1.    4.  180. ]\n",
      " [200.    6.   28.    0.   10.  135. ]\n",
      " [200.    6.   28.    0.   10.  135. ]\n",
      " [320.    5.   53.    8.   20.  170. ]\n",
      " [300.    2.   60.    7.   16.  130. ]]\n"
     ]
    }
   ],
   "source": [
    "mask = ~np.isnan(data).all(axis=1)\n",
    "updata = data[mask]\n",
    "drinksup = drinks[mask]\n",
    "print(drinksup)\n",
    "print(updata)"
   ]
  },
  {
   "cell_type": "markdown",
   "id": "06cce98a",
   "metadata": {},
   "source": [
    "<h1> Data Analysis </h1>"
   ]
  },
  {
   "cell_type": "code",
   "execution_count": 148,
   "id": "f6040f2f",
   "metadata": {},
   "outputs": [
    {
     "name": "stdout",
     "output_type": "stream",
     "text": [
      "135.16304347826087\n"
     ]
    }
   ],
   "source": [
    "meanCalori = np.mean(updata[:,0])\n",
    "print(meanCalori)"
   ]
  },
  {
   "cell_type": "code",
   "execution_count": 190,
   "id": "d49b6028-1dab-4a33-aba4-5452d5b13f6a",
   "metadata": {},
   "outputs": [
    {
     "name": "stdout",
     "output_type": "stream",
     "text": [
      "1.0\n"
     ]
    }
   ],
   "source": [
    "mediaprotein = np.median(updata[:,-2])\n",
    "print(mediaprotein)"
   ]
  },
  {
   "cell_type": "code",
   "execution_count": 288,
   "id": "e89deff2-96b7-4168-a1ec-1b72f93ba0fe",
   "metadata": {},
   "outputs": [
    {
     "name": "stdout",
     "output_type": "stream",
     "text": [
      "The maximun amount of calories for 'Starbucks Signature Hot Chocolate', is : 430.0.\n",
      "The minimum amount of calories for 'Iced Coffee', is : 0.0.\n"
     ]
    }
   ],
   "source": [
    "maxLi = np.max(updata[:,1])\n",
    "minLi =np.min(updata[:,1])\n",
    "#print(maxLi, minLi)\n",
    "maxCa = np.max(updata[:,0])\n",
    "minCa = np.min(updata[:,0])\n",
    "indicemaxC =np.argmax(updata[:,0])\n",
    "indiceminC =np.argmin(updata[:,0])\n",
    "print(f\"The maximun amount of calories for '{drinksup[indicemaxC]}', is : {maxCa}.\")\n",
    "print(f\"The minimum amount of calories for '{drinksup[indiceminC]}', is : {minCa}.\")"
   ]
  },
  {
   "cell_type": "markdown",
   "id": "a72a6b0e",
   "metadata": {},
   "source": [
    "<h1> Creation of a New Column Indicating the Calorie Level </h1>"
   ]
  },
  {
   "cell_type": "code",
   "execution_count": 290,
   "id": "32150c17",
   "metadata": {},
   "outputs": [
    {
     "data": {
      "text/plain": [
       "array([ 45.,  80.,  60., 110.,   0., 130., 140., 130.,  80.,  60., 150.,\n",
       "       140., 140., 150.,  70., 120., 140.,  60., 120., 140., 150., 140.,\n",
       "        30.,  70.,  30.,  70.,  30.,  90.,  60., 130., 140., 130.,  90.,\n",
       "        90., 210., 200.,  60.,  50.,  10.,  60., 150., 140., 140., 150.,\n",
       "        70., 120., 140.,  60., 120., 140., 150., 140.,   5.,  10.,   5.,\n",
       "         5.,   5.,   5.,   0.,   5.,  70.,   5., 110., 320., 430., 190.,\n",
       "       290., 120., 250., 260., 250., 180., 130., 230., 250., 200., 260.,\n",
       "       190., 300., 190., 190.,  45., 250., 360., 350., 110., 280., 140.,\n",
       "       200., 200., 320., 300.])"
      ]
     },
     "execution_count": 290,
     "metadata": {},
     "output_type": "execute_result"
    }
   ],
   "source": [
    "calories = updata[:,0].astype(float)\n",
    "calories"
   ]
  },
  {
   "cell_type": "code",
   "execution_count": 294,
   "id": "e552bd9f-77ad-4a8b-9221-82b259ad2dfb",
   "metadata": {},
   "outputs": [
    {
     "data": {
      "text/plain": [
       "array([0, 0, 0, 0, 0, 0, 0, 0, 0, 0, 0, 0, 0, 0, 0, 0, 0, 0, 0, 0, 0, 0,\n",
       "       0, 0, 0, 0, 0, 0, 0, 0, 0, 0, 0, 0, 0, 0, 0, 0, 0, 0, 0, 0, 0, 0,\n",
       "       0, 0, 0, 0, 0, 0, 0, 0, 0, 0, 0, 0, 0, 0, 0, 0, 0, 0, 0, 0, 0, 0,\n",
       "       0, 0, 0, 0, 0, 0, 0, 0, 0, 0, 0, 0, 0, 0, 0, 0, 0, 0, 0, 0, 0, 0,\n",
       "       0, 0, 0, 0])"
      ]
     },
     "execution_count": 294,
     "metadata": {},
     "output_type": "execute_result"
    }
   ],
   "source": [
    "calories_lev = np.zeros(calories.shape, dtype=int)\n",
    "calories_lev"
   ]
  },
  {
   "cell_type": "code",
   "execution_count": 296,
   "id": "76b2b500-bca8-41a3-9eae-97c98e47ecbf",
   "metadata": {},
   "outputs": [
    {
     "data": {
      "text/plain": [
       "array([1, 1, 1, 2, 1, 2, 2, 2, 1, 1, 2, 2, 2, 2, 1, 2, 2, 1, 2, 2, 2, 2,\n",
       "       1, 1, 1, 1, 1, 1, 1, 2, 2, 2, 1, 1, 3, 2, 1, 1, 1, 1, 2, 2, 2, 2,\n",
       "       1, 2, 2, 1, 2, 2, 2, 2, 1, 1, 1, 1, 1, 1, 1, 1, 1, 1, 2, 4, 4, 2,\n",
       "       3, 2, 3, 3, 3, 2, 2, 3, 3, 2, 3, 2, 3, 2, 2, 1, 3, 4, 4, 2, 3, 2,\n",
       "       2, 2, 4, 3])"
      ]
     },
     "execution_count": 296,
     "metadata": {},
     "output_type": "execute_result"
    }
   ],
   "source": [
    "calories_lev[(calories>=0)& (calories<= 100)]=1\n",
    "calories_lev[(calories>100)& (calories<= 200)]=2\n",
    "calories_lev[(calories>200)& (calories<= 300)]=3\n",
    "calories_lev[calories>300]=4\n",
    "calories_lev"
   ]
  },
  {
   "cell_type": "code",
   "execution_count": 300,
   "id": "eab36551-7a76-4834-97fc-12312d632023",
   "metadata": {},
   "outputs": [
    {
     "data": {
      "text/plain": [
       "array([ True,  True,  True, False,  True, False, False, False,  True,\n",
       "        True, False, False, False, False,  True, False, False,  True,\n",
       "       False, False, False, False,  True,  True,  True,  True,  True,\n",
       "        True,  True, False, False, False,  True,  True, False, False,\n",
       "        True,  True,  True,  True, False, False, False, False,  True,\n",
       "       False, False,  True, False, False, False, False,  True,  True,\n",
       "        True,  True,  True,  True,  True,  True,  True,  True, False,\n",
       "       False, False, False, False, False, False, False, False, False,\n",
       "       False, False, False, False, False, False, False, False, False,\n",
       "        True, False, False, False, False, False, False, False, False,\n",
       "       False, False])"
      ]
     },
     "execution_count": 300,
     "metadata": {},
     "output_type": "execute_result"
    }
   ],
   "source": [
    "mask2 = calories_lev <=1\n",
    "mask2"
   ]
  },
  {
   "cell_type": "code",
   "execution_count": 302,
   "id": "f0b211f3-bcce-478b-a3af-a9ef1f856463",
   "metadata": {},
   "outputs": [
    {
     "data": {
      "text/plain": [
       "array(['Cool Lime Starbucks Refreshers Beverage',\n",
       "       'Strawberry Acai Starbucks Refreshers Beverage',\n",
       "       'Very Berry Hibiscus Starbucks Refreshers Beverage', 'Iced Coffee',\n",
       "       'Shaken Sweet Tea', 'Tazo Bottled Berry Blossom White',\n",
       "       'Tazo Bottled Iced Passion', 'Tazo Bottled Organic Iced Black Tea',\n",
       "       'Teavana Shaken Iced Black Tea',\n",
       "       'Teavana Shaken Iced Black Tea Lemonade',\n",
       "       'Teavana Shaken Iced Green Tea',\n",
       "       'Teavana Shaken Iced Green Tea Lemonade',\n",
       "       'Teavana Shaken Iced Passion Tango Tea',\n",
       "       'Teavana Shaken Iced Passion Tango Tea Lemonade',\n",
       "       'Teavana Shaken Iced Peach Green Tea',\n",
       "       'Starbucks Refreshers Raspberry Pomegranate',\n",
       "       'Starbucks Refreshers Strawberry Lemonade',\n",
       "       'Starbucks Iced Coffee Caramel',\n",
       "       'Starbucks Iced Coffee Light Sweetened',\n",
       "       'Starbucks Iced Coffee Unsweetened',\n",
       "       'Tazo Bottled Berry Blossom White', 'Tazo Bottled Iced Passion',\n",
       "       'Tazo Bottled Organic Iced Black Tea', 'Blonde Roast',\n",
       "       'Clover Brewed Coffee', 'Decaf Pike Place Roast',\n",
       "       'Featured Dark Roast', 'Iced Coffee', 'Nariño 70 Cold Brew',\n",
       "       'Nariño 70 Cold Brew with Milk', 'Nitro Cold Brew',\n",
       "       'Nitro Cold Brew with Sweet Cream', 'Pike Place Roast',\n",
       "       'Starbucks Doubleshot on Ice Beverage'], dtype='<U62')"
      ]
     },
     "execution_count": 302,
     "metadata": {},
     "output_type": "execute_result"
    }
   ],
   "source": [
    "drinksup[mask2]"
   ]
  },
  {
   "cell_type": "code",
   "execution_count": 304,
   "id": "f520cdb9-5f66-4858-82a2-6b807b9c6fc1",
   "metadata": {},
   "outputs": [
    {
     "data": {
      "text/plain": [
       "10.333333333333334"
      ]
     },
     "execution_count": 304,
     "metadata": {},
     "output_type": "execute_result"
    }
   ],
   "source": [
    "np.mean(updata[calories_lev <=1,:])\n"
   ]
  }
 ],
 "metadata": {
  "kernelspec": {
   "display_name": "Python [conda env:base] *",
   "language": "python",
   "name": "conda-base-py"
  },
  "language_info": {
   "codemirror_mode": {
    "name": "ipython",
    "version": 3
   },
   "file_extension": ".py",
   "mimetype": "text/x-python",
   "name": "python",
   "nbconvert_exporter": "python",
   "pygments_lexer": "ipython3",
   "version": "3.12.7"
  }
 },
 "nbformat": 4,
 "nbformat_minor": 5
}
